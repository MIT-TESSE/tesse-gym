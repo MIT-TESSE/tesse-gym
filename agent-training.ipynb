{
 "cells": [
  {
   "cell_type": "code",
   "execution_count": null,
   "metadata": {},
   "outputs": [],
   "source": [
    "from stable_baselines.common.policies import CnnPolicy\n",
    "from stable_baselines.common.vec_env import SubprocVecEnv, VecVideoRecorder, DummyVecEnv\n",
    "from stable_baselines import PPO2\n",
    "\n",
    "%load_ext autoreload\n",
    "%autoreload 2\n",
    "from src.tesse_gym_interface.navigation_env import NavigationEnv\n",
    "from src.tesse_gym_interface.treasure_hunt_env import TreasureHuntEnv\n",
    "import time\n",
    "import os"
   ]
  },
  {
   "cell_type": "code",
   "execution_count": 4,
   "metadata": {},
   "outputs": [],
   "source": [
    "filename = '/home/za27933/tess/builds/no-thread-v0.4.2/tesse_multiscene_v0.4.2-nothread_linux.x86_64'"
   ]
  },
  {
   "cell_type": "markdown",
   "metadata": {},
   "source": [
    "### Agent training\n",
    "\n",
    "This section contains code to train an agent using PPO2."
   ]
  },
  {
   "cell_type": "code",
   "execution_count": 5,
   "metadata": {},
   "outputs": [],
   "source": [
    "total_timesteps = 600000  \n",
    "scene_id = 3\n",
    "success_dist = 2\n",
    "n_targets = 1\n",
    "max_steps = 65\n",
    "\n",
    "def make_unity_env(filename, num_env):\n",
    "    \"\"\" Create a wrapped Unity environment. \"\"\"\n",
    "    def make_env(rank):\n",
    "        def _thunk():\n",
    "            env = TreasureHuntEnv(filename, \n",
    "                                  'localhost',\n",
    "                                  'localhost', \n",
    "                                  worker_id=rank, \n",
    "                                  scene_id=scene_id,\n",
    "                                  n_targets=n_targets,\n",
    "                                  success_dist = success_dist)\n",
    "            return env\n",
    "        return _thunk\n",
    "    \n",
    "    return SubprocVecEnv([make_env(i) for i in range(num_env)])"
   ]
  },
  {
   "cell_type": "markdown",
   "metadata": {},
   "source": [
    "Next, we launch 4 environments."
   ]
  },
  {
   "cell_type": "code",
   "execution_count": null,
   "metadata": {},
   "outputs": [],
   "source": [
    "env = make_unity_env(filename, 4)"
   ]
  },
  {
   "cell_type": "markdown",
   "metadata": {},
   "source": [
    "Specify the agent model for learning."
   ]
  },
  {
   "cell_type": "code",
   "execution_count": 15,
   "metadata": {},
   "outputs": [],
   "source": [
    "model = PPO2(CnnPolicy, env, verbose=1, tensorboard_log=\"./tensorboard/\")"
   ]
  },
  {
   "cell_type": "code",
   "execution_count": 16,
   "metadata": {},
   "outputs": [],
   "source": [
    "def save_checkpoint_callback(local_vars,  global_vars):\n",
    "    total_updates = local_vars['update']\n",
    "    if total_updates % 20 == 0:\n",
    "        local_vars[\"self\"].save(log_dir + f'{total_updates}.pkl')"
   ]
  },
  {
   "cell_type": "code",
   "execution_count": null,
   "metadata": {},
   "outputs": [],
   "source": [
    "log_dir = 'policy-1/'\n",
    "model.learn(total_timesteps=total_timesteps, callback=save_checkpoint_callback, \n",
    "            reset_num_timesteps=False)"
   ]
  },
  {
   "cell_type": "code",
   "execution_count": null,
   "metadata": {},
   "outputs": [],
   "source": [
    "model.save(\"the.policy\")"
   ]
  },
  {
   "cell_type": "markdown",
   "metadata": {},
   "source": [
    "### Make a video\n",
    "\n",
    "Demonstrates loading the model and executing it to construct a video."
   ]
  },
  {
   "cell_type": "code",
   "execution_count": 41,
   "metadata": {},
   "outputs": [
    {
     "name": "stdout",
     "output_type": "stream",
     "text": [
      "Loading a model without an environment, this model cannot be trained until it has a valid environment.\n"
     ]
    }
   ],
   "source": [
    "model = PPO2.load(\"the.policy\")"
   ]
  },
  {
   "cell_type": "code",
   "execution_count": 42,
   "metadata": {},
   "outputs": [
    {
     "name": "stdout",
     "output_type": "stream",
     "text": [
      "Saving video to  /home/za27933/tess/TESSE_gym_interface/results/trial-3/tesse-2-step-0-to-step-500.mp4\n"
     ]
    }
   ],
   "source": [
    "video_length = 500\n",
    "\n",
    "video_env = VecVideoRecorder(env,\n",
    "                             video_folder='results/trial-3/',\n",
    "                             record_video_trigger=lambda x: x == 0,\n",
    "                             video_length=video_length,\n",
    "                             name_prefix='tesse-2'\n",
    "                            )\n",
    "\n",
    "obs = video_env.reset()\n",
    "for _ in range(video_length + 1):\n",
    "    action, _ = model.predict(obs)\n",
    "    obs, _, _, _ = video_env.step(action)"
   ]
  },
  {
   "cell_type": "markdown",
   "metadata": {},
   "source": [
    "### Random tests\n",
    "\n",
    "This just includes a few simple test snippets"
   ]
  },
  {
   "cell_type": "code",
   "execution_count": 17,
   "metadata": {},
   "outputs": [],
   "source": [
    "env = TreasureHuntEnv(filename, 'localhost', 'localhost', worker_id = 25, scene_id=3)"
   ]
  },
  {
   "cell_type": "code",
   "execution_count": null,
   "metadata": {},
   "outputs": [],
   "source": [
    "for i in range(10):\n",
    "    env.reset()\n",
    "    time.sleep(.2)\n",
    "    for _ in range(35):\n",
    "        (obs, reward, done, _) = env.step(0)\n",
    "        if done:\n",
    "            print(\"collision\", i)\n",
    "            break"
   ]
  },
  {
   "cell_type": "code",
   "execution_count": null,
   "metadata": {},
   "outputs": [],
   "source": []
  }
 ],
 "metadata": {
  "kernelspec": {
   "display_name": "Python [conda env:tess_gym]",
   "language": "python",
   "name": "conda-env-tess_gym-py"
  },
  "language_info": {
   "codemirror_mode": {
    "name": "ipython",
    "version": 3
   },
   "file_extension": ".py",
   "mimetype": "text/x-python",
   "name": "python",
   "nbconvert_exporter": "python",
   "pygments_lexer": "ipython3",
   "version": "3.7.4"
  }
 },
 "nbformat": 4,
 "nbformat_minor": 2
}
